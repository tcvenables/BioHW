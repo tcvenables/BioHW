{
 "cells": [
  {
   "cell_type": "markdown",
   "metadata": {},
   "source": [
    "# 1.4 Working with files in bash\n",
    "\n",
    "\n",
    "This notebook will extend your knowledge of commonly-used bash commands, specifically in the area of inspecting and manipulating files."
   ]
  },
  {
   "cell_type": "markdown",
   "metadata": {},
   "source": [
    "#### How many lines are there in `artists.txt`? \n",
    "\n",
    "```\n",
    "%%bash\n",
    "cd data/art\n",
    "wc -l artists.txt\n",
    "```"
   ]
  },
  {
   "cell_type": "code",
   "execution_count": 1,
   "metadata": {},
   "outputs": [
    {
     "name": "stdout",
     "output_type": "stream",
     "text": [
      "149 artists.txt\n"
     ]
    }
   ],
   "source": [
    "%%bash\n",
    "cd data/art\n",
    "wc -l artists.txt"
   ]
  },
  {
   "cell_type": "markdown",
   "metadata": {},
   "source": [
    "#### Print the top 15 lines of artists.txt\n",
    "Find and correct the error...\n",
    "```\n",
    "%%bash\n",
    "cd data/art\n",
    "head artists.txt\n",
    "```"
   ]
  },
  {
   "cell_type": "code",
   "execution_count": 2,
   "metadata": {},
   "outputs": [
    {
     "name": "stdout",
     "output_type": "stream",
     "text": [
      "KILIAN, Wolfgang\t(1581-1662)\tBaroque\tGerman graphic artist (Augsburg)\n",
      "KINSOEN, François-Joseph\t(1771-1839)\tRomanticism\tFlemish painter\n",
      "KISS, August Karl Edouard\t(1802-1865)\tRomanticism\tGerman sculptor\n",
      "KISS, Bálint\t(1802-1868)\tRomanticism\tHungarian painter (Pest)\n",
      "KLEINER, Salomon\t(1703-1761)\tBaroque\tGerman graphic artist\n",
      "KLENZE, Leo von\t(1784-1864)\tRomanticism\tGerman architect\n",
      "KLESECKER, Justus (see GLESKER, Justus)\t(c. 1615-1678)\tBaroque\tGerman sculptor (Franconia)\n",
      "KLINGER, Max\t(1857-1920)\tRealism\tGerman painter\n",
      "KLOCKER, Hans\t(active 1478-1500l)\tNorthern Renaissance\tAustrian sculptor (South Tyrol)\n",
      "KLODT, Mikhail Konstantinovich\t(c. 1832-1902)\tRealism\tRussian painter (St. Petersburg)\n"
     ]
    }
   ],
   "source": [
    "%%bash\n",
    "cd data/art\n",
    "head artists.txt\n"
   ]
  },
  {
   "cell_type": "markdown",
   "metadata": {},
   "source": [
    "#### Now print the bottom 15 lines of artists.txt\n",
    "Do it without the code prompt"
   ]
  },
  {
   "cell_type": "code",
   "execution_count": 3,
   "metadata": {},
   "outputs": [
    {
     "name": "stdout",
     "output_type": "stream",
     "text": [
      "AKEN, Joseph van\t(c. 1699-1749)\tRococo\tFlemish painter (London)\n",
      "AKOTANTOS, Angelos\t(?-c. 1457)\tMedieval\tGreek painter (Crete)\n",
      "ALBA, Macrino d'\t(c. 1460-c. 1528)\tEarly Renaissance\tItalian painter (Alba)\n",
      "ALBANI, Francesco\t(1578-1660)\tBaroque\tItalian painter (Bologna)\n",
      "ALBEREGNO, Jacobello\t(died before1397)\tMedieval\tItalian painter (Venice)\n",
      "ALBERTI, Antonio\t(c. 1390-c. 1442)\tEarly Renaissance\tItalian painter (Urbino)\n",
      "ALBERTI, Cherubino\t(1553-1615)\tMannerism\tItalian painter (Rome)\n",
      "ALBERTI, Giovanni\t(1558-1601)\tMannerism\tItalian painter (Rome)\n",
      "ALBERTI, Leon Battista\t(1404-1472)\tEarly Renaissance\tItalian architect\n",
      "ALBERTINELLI, Mariotto\t(1474-1515)\tEarly Renaissance\tItalian painter (Florence)"
     ]
    }
   ],
   "source": [
    "%%bash\n",
    "cd data/art\n",
    "tail -l artists.txt"
   ]
  },
  {
   "cell_type": "code",
   "execution_count": null,
   "metadata": {},
   "outputs": [],
   "source": []
  },
  {
   "cell_type": "markdown",
   "metadata": {},
   "source": [
    "#### Sort `artists.txt` by last name (first column)\n",
    "```\n",
    "%%bash\n",
    "cd data/art\n",
    "sort artists.txt\n",
    "```"
   ]
  },
  {
   "cell_type": "code",
   "execution_count": 4,
   "metadata": {},
   "outputs": [
    {
     "name": "stdout",
     "output_type": "stream",
     "text": [
      "AACHEN, Hans von\t(1552-1615)\tMannerism\tGerman painter\n",
      "AAGAARD, Carl Frederik\t(1833-1895)\tRealism\tDanish painter (Copenhagen)\n",
      "ABADIA, Juan de la\t(active 1470-1490)\tEarly Renaissance\tSpanish painter (Huesca)\n",
      "ABAQUESNE, Masséot\t(c 1500-1564)\tHigh Renaissance\tFrench potter\n",
      "ABBATE, Niccolò dell'\t(1509-1571)\tMannerism\tItalian painter (Bologna)\n",
      "ABBATI, Giuseppe\t(1836-1868)\tRealism\tItalian painter\n",
      "ABBATINI, Guido Ubaldo\t(c. 1602-1656)\tBaroque\tItalian painter (Rome)\n",
      "ABBONDI, Antonio di Pietro (see SCARPAGNINO)\t(c. 1465-1549)\tHigh Renaissance\tItalian architect (Venice)\n",
      "ABEELE, Pieter van\t(1608-1684)\tBaroque\tDutch sculptor (Amsterdam)\n",
      "ABILDGAARD, Nicolai\t(1743-1809)\tRomanticism\tDanish painter\n",
      "ABONDIO, Antonio\t(1538-1591)\tMannerism\tItalian sculptor (Vienna)\n",
      "ACERO Y AREBO, Vicente\t(c. 1677-1739)\tBaroque\tSpanish architect\n",
      "ACHENBACH, Oswald\t(1827-1905)\tRealism\tGerman painter (Dusseldorf)\n",
      "ADAM, Albrecht\t(1786-1862)\tRomanticism\tGerman painter (Munich)\n",
      "ADAM, Lambert-Sigisbert\t(1700-1759)\tBaroque\tFrench sculptor (Nancy)\n",
      "ADAM, Nicolas-Sébastien\t(1705-1778)\tBaroque\tFrench sculptor (Nancy)\n",
      "ADAM, Robert\t(1728-1792)\tBaroque\tScottish architect (London)\n",
      "ADAM-SALOMON, Antoine-Samuel\t(1818-1881)\tRealism\tFrench sculptor (Paris)\n",
      "ADELCRANTZ, Carl Fredrik\t(1716-1796)\tNeoclassicism\tSwedish architect\n",
      "ADEMOLLO, Luigi\t(1764-1849)\tNeoclassicism\tItalian painter (Florence)\n",
      "ADLER, Salomon\t(1630-1709)\tBaroque\tGerman painter (Milan)\n",
      "ADOLFZOON, Christoph (see ADOLPHI, Christoffel)\t(c. 1631-1680)\tBaroque\tDutch sculptor (Amsterdam)\n",
      "ADOLPHI, Christoffel\t(c. 1631-1680)\tBaroque\tDutch sculptor (Amsterdam)\n",
      "ADRIAEN VAN UTRECHT (see UTRECHT, Adriaen van)\t(1599-1652)\tBaroque\tFlemish painter\n",
      "ADRIAENSSEN, Alexander\t(1587-1661)\tBaroque\tFlemish painter (Antwerp)\n",
      "ADRIANO FIORENTINO\t(ca. 1455-1499)\tEarly Renaissance\tItalian sculptor (Florence)\n",
      "AELST, Willem van\t(1627-c. 1683)\tBaroque\tDutch painter (Delft)\n",
      "AENVANCK, Theodoor\t(1633-1690)\tBaroque\tFlemish painter (Antwerp)\n",
      "AERT VAN ORT\t(active 1490-1536)\tNorthern Renaissance\tFlemish glass painter\n",
      "AERTSEN, Pieter\t(1508-1575)\tNorthern Renaissance\tNetherlandish painter (Amsterdam)\n",
      "AGASSE, Jacques-Laurent\t(1767-1849)\tNeoclassicism\tSwiss painter (London)\n",
      "AGNOLO DA SIENA (see AGNOLO DI VENTURA)\t(active 1311-1349)\tMedieval\tItalian sculptor (Siena)\n",
      "AGNOLO DI POLO\t(c. 1470-after 1498)\tEarly Renaissance\tItalian sculptor (Florence)\n",
      "AGNOLO DI VENTURA\t(active 1311-1349)\tMedieval\tItalian sculptor (Siena)\n",
      "AGOSTINO DI DUCCIO\t(1418-1481)\tEarly Renaissance\tItalian sculptor (Rimini)\n",
      "AGOSTINO DI GIOVANNI\t(active 1310-1347)\tMedieval\tItalian sculptor (Siena)\n",
      "AGOSTINO VENEZIANO (see MUSI, Agostino dei)\t(c. 1490-c. 1536)\tHigh Renaissance\tItalian graphic artist\n",
      "AGRATE, Gian Francesco Ferrari d'\t(1489-c. 1563)\tHigh Renaissance\tItalian sculptor (Parma)\n",
      "AGUADO LÓPEZ, Antonio\t(1764-1831)\tNeoclassicism\tSpanish architect (Madrid)\n",
      "AIVAZOVSKY, Ivan Konstantinovich\t(1817-1900)\tRealism\tRussian painter\n",
      "AKEN, Joseph van\t(c. 1699-1749)\tRococo\tFlemish painter (London)\n",
      "AKOTANTOS, Angelos\t(?-c. 1457)\tMedieval\tGreek painter (Crete)\n",
      "ALBA, Macrino d'\t(c. 1460-c. 1528)\tEarly Renaissance\tItalian painter (Alba)\n",
      "ALBANI, Francesco\t(1578-1660)\tBaroque\tItalian painter (Bologna)\n",
      "ALBEREGNO, Jacobello\t(died before1397)\tMedieval\tItalian painter (Venice)\n",
      "ALBERTI, Antonio\t(c. 1390-c. 1442)\tEarly Renaissance\tItalian painter (Urbino)\n",
      "ALBERTI, Cherubino\t(1553-1615)\tMannerism\tItalian painter (Rome)\n",
      "ALBERTI, Giovanni\t(1558-1601)\tMannerism\tItalian painter (Rome)\n",
      "ALBERTI, Leon Battista\t(1404-1472)\tEarly Renaissance\tItalian architect\n",
      "ALBERTINELLI, Mariotto\t(1474-1515)\tEarly Renaissance\tItalian painter (Florence)\n",
      "KILIAN, Wolfgang\t(1581-1662)\tBaroque\tGerman graphic artist (Augsburg)\n",
      "KINSOEN, François-Joseph\t(1771-1839)\tRomanticism\tFlemish painter\n",
      "KISS, August Karl Edouard\t(1802-1865)\tRomanticism\tGerman sculptor\n",
      "KISS, Bálint\t(1802-1868)\tRomanticism\tHungarian painter (Pest)\n",
      "KLEINER, Salomon\t(1703-1761)\tBaroque\tGerman graphic artist\n",
      "KLENZE, Leo von\t(1784-1864)\tRomanticism\tGerman architect\n",
      "KLESECKER, Justus (see GLESKER, Justus)\t(c. 1615-1678)\tBaroque\tGerman sculptor (Franconia)\n",
      "KLINGER, Max\t(1857-1920)\tRealism\tGerman painter\n",
      "KLOCKER, Hans\t(active 1478-1500l)\tNorthern Renaissance\tAustrian sculptor (South Tyrol)\n",
      "KLODT, Mikhail Konstantinovich\t(c. 1832-1902)\tRealism\tRussian painter (St. Petersburg)\n",
      "KLODT, Pyotr Karlovich\t(1805-1867)\tRomanticism\tRussian sculptor (St. Petersburg)\n",
      "KNEBEL, Franz\t(1809-1877)\tRomanticism\tSwiss painter (Rome)\n",
      "KNELLER, Sir Godfrey\t(1646-1723)\tBaroque\tEnglish painter\n",
      "KNIJFF, Jacob\t(1639-1681)\tBaroque\tDutch painter (London)\n",
      "KNIJFF, Wouter\t(c. 1607-after 1693)\tBaroque\tDutch painter (Haarlem)\n",
      "KNIP, Henriëtte\t(1821-1909)\tRealism\tDutch painter (Brussels)\n",
      "KNIP, Henriëtte Geertruida\t(1783-1842)\tRomanticism\tDutch painter\n",
      "KNIP, Josephus Augustus\t(1777-1847)\tRomanticism\tDutch painter\n",
      "KNIP, Mattheus Derk\t(1785-1845)\tRomanticism\tDutch painter\n",
      "KNIP, Nicolaas Frederik\t(1741-1808)\tRococo\tDutch painter\n",
      "KNOBELSDORFF, Georg Wenceslaus von\t(1699-1753)\tBaroque\tGerman architect (Berlin)\n",
      "KNOLLER, Martin\t(1725-1804)\tNeoclassicism\tAustrian painter (Italy)\n",
      "KNYFF, Jacob (see KNIJFF, Jacob)\t(1639-1681)\tBaroque\tDutch painter (London)\n",
      "KNYFF, Wouter (see KNIJFF, Wouter)\t(c. 1607-after 1693)\tBaroque\tDutch painter (Haarlem)\n",
      "KNÜPFER, Nicolaus\t(c. 1603-1655)\tBaroque\tDutch painter\n",
      "KOBELL, Franz\t(1749-1822)\tRococo\tGerman painter (Munich)\n",
      "KOBELL, Hendrik\t(1751-1779)\tRococo\tDutch painter (Rotterdam)\n",
      "KOBELL, Jan I\t(1755-1833)\tRococo\tDutch graphic artist (Rotterdam)\n",
      "KOBELL, Jan II\t(1778-1814)\tNeoclassicism\tDutch painter\n",
      "KOBELL, Wilhelm von\t(1766-1853)\tRomanticism\tGerman painter\n",
      "KOBERGER, Anton\t(c. 1440-1513)\tNorthern Renaissance\tGerman graphic artist (Nuremberg)\n",
      "KOCH, Joseph Anton\t(1768-1839)\tRomanticism\tAustrian painter\n",
      "KOEBERGER, Wenzel (see COBERGHER, Wenceslas)\t(c. 1560-1634)\tBaroque\tFlemish architect\n",
      "KOEDIJCK, Isaack\t(c. 1617-c. 1668)\tBaroque\tDutch painter (Amsterdam)\n",
      "KOEKKOEK, Barend Cornelis\t(1803-1862)\tRomanticism\tDutch painter\n",
      "KOERBECKE, Johann\t(c. 1420-1490)\tNorthern Renaissance\tGerman painter (Münster)\n",
      "KOETS, Roelof\t(c. 1592-1655)\tBaroque\tDutch painter (Haarlem)\n",
      "KOKORINOV, Alexander Filippovich\t(1726-1772)\tBaroque\tRussian architect (St. Petersburg)\n",
      "KOLBE, Carl Wilhelm\t(1759-1835)\tNeoclassicism\tGerman painter\n",
      "KOLLONITSCH, Christian\t(1730-1802)\tRococo\tAustrian painter (Vienna)\n",
      "KOLUNIĆ, Martin (see ROTA, Martino)\t(c. 1520-1583)\tMannerism\tOther painter (Vienna)\n",
      "KOMPE, Jan ten (see COMPE, Jan ten)\t(1713-1761)\tBaroque\tDutch painter (Amsterdam)\n",
      "KONINCK, Daniël de\t(1668-after 1720)\tBaroque\tDutch painter (London)\n",
      "KONINCK, David de (see CONINCK, David de)\t(c. 1644-c. 1701)\tBaroque\tFlemish painter\n",
      "KONINCK, Philips\t(1619-1688)\tBaroque\tDutch painter (Amsterdam)\n",
      "KONINCK, Salomon\t(1609-1656)\tBaroque\tDutch painter (Amsterdam)\n",
      "KONRAD von Soest\t(active 1394-1422)\tNorthern Renaissance\tGerman painter (Westphalie)\n",
      "KOPISCH, August\t(1799-1853)\tRomanticism\tGerman painter (Berlin)\n",
      "KÖNIG, Johann\t(1586-1642)\tBaroque\tGerman painter (Augsburg)\n",
      "KŘBKE, Christen\t(1810-1848)\tRomanticism\tDanish painter\n",
      "TACCA, Ferdinando\t(1619-c. 1688)\tBaroque\tItalian sculptor (Florence)\n",
      "TACCA, Pietro\t(1577-1640)\tBaroque\tItalian sculptor (Florence)\n",
      "TACCONE, Paolo (see PAOLO ROMANO)\t(c. 1415-c. 1470)\tEarly Renaissance\tItalian sculptor (Rome)\n",
      "TADDEO DI BARTOLO\t(1362/63-1422)\tMedieval\tItalian painter (Siena)\n",
      "TADDEO DI FERRARA (see CRIVELLI, Taddeo)\t(active 1451-c. 1479)\tEarly Renaissance\tItalian illuminator (Ferrara)\n",
      "TADOLINI, Scipione\t(1822-1892)\tRealism\tItalian sculptor (Rome)\n",
      "TALENTI, Francesco\t(c. 1300-after 1369)\tMedieval\tItalian architect (Florence)\n",
      "TALENTI, Simone\t(c. 1330-after 1383)\tMedieval\tItalian architect (Florence)\n",
      "TALPA, Bartolo\t(active c. 1495)\tEarly Renaissance\tItalian sculptor (Mantua)\n",
      "TAMAGNI, Vincenzo\t(1492-1530)\tHigh Renaissance\tItalian painter (San Gimignano)\n",
      "TAMAGNINO, Antonio (see PORTA, Antonio della)\t(active 1489–1519)\tEarly Renaissance\tItalian sculptor\n",
      "TAMM, Franz Werner von\t(1658-1724)\tBaroque\tGerman painter\n",
      "TANZIO DA VARALLO\t(c. 1580-c. 1632)\tBaroque\tItalian painter\n",
      "TARAVAL, Guillaume-Thomas-Raphaël\t(1701-1750)\tBaroque\tFrench painter (Stockholm)\n",
      "TARAVAL, Hugues\t(1729-1785)\tRococo\tFrench painter (Paris)\n",
      "TARAVAL, Louis-Gustave\t(1738-1794)\tNeoclassicism\tFrench graphic artist\n",
      "TARBELL, Edmund Charles\t(1862-1938)\tImpressionism\tAmerican painter\n",
      "TARCHIANI, Filippo\t(1576-1645)\tBaroque\tItalian painter (Florence)\n",
      "TARDIEU, Nicolas-Henry\t(1674-1749)\tBaroque\tFrench graphic artist (Paris)\n",
      "TARGONE, Cesare\t(active 1575-1590)\tMannerism\tItalian goldsmith\n",
      "TARSIA, Antonio\t(c. 1662-1739)\tBaroque\tAustrian sculptor (Venice)\n",
      "TARUFFI, Emilio\t(1633-1696)\tBaroque\tItalian painter (Bologna)\n",
      "TASSAERT, Jean-Pierre-Antoine\t(1727-1788)\tRococo\tFlemish sculptor\n",
      "TASSAERT, Octave\t(1800-1874)\tRomanticism\tFrench painter\n",
      "TASSEL, Jean\t(1608-1667)\tBaroque\tFrench painter (Langres)\n",
      "TASSI, Agostino\t(1578-1644)\tBaroque\tItalian painter (Rome)\n",
      "TAUNAY, Nicolas Antoine\t(1755-1830)\tRococo\tFrench painter\n",
      "TEDESCO, Carlo (see SFERINI, Carlo Leopoldo)\t(1652-1698)\tBaroque\tItalian painter (Verona)\n",
      "TEDESCO, Giovanni Paolo (see SCHOR, Johann Paul)\t(1615-1674)\tBaroque\tItalian painter (Rome)\n",
      "TEERLINC, Levina\tc. 1515-1576)\tMannerism\tFlemish miniaturist (London)\n",
      "TELEPY, Károly\t(1828-1906)\tRomanticism\tHungarian painter\n",
      "TEMANZA, Tommaso\t(1705-1789)\tRococo\tItalian architect (Venice)\n",
      "TEMPEL, Abraham van den\t(1622/23-1672)\tBaroque\tDutch painter (Amsterdam)\n",
      "TEMPESTA, Antonio\t(1555-1630)\tBaroque\tItalian painter (Florence)\n",
      "TEMPESTA, Pietro (see MULIER, Pieter the Younger)\t(1637-1701)\tBaroque\tDutch painter (Italy)\n",
      "TENERANI, Pietro\t(1789-1869)\tNeoclassicism\tItalian sculptor\n",
      "TENGNAGEL, Jan\t(1584-1635)\tBaroque\tDutch painter (Amsterdam)\n",
      "TENIERS, Abraham\t(1629-1670)\tBaroque\tFlemish painter (Antwerp)\n",
      "TENIERS, David the Elder\t(1582-1649)\tBaroque\tFlemish painter (Antwerp)\n",
      "TENIERS, David the Younger\t(1610-1690)\tBaroque\tFlemish painter (Antwerp)\n",
      "TERBORCH, Gerard\t(1617-1681)\tBaroque\tDutch painter (Deventer)\n",
      "TERBRUGGHEN, Hendrick\t(1588-1629)\tBaroque\tDutch painter (Utrecht)\n",
      "TERILLI, Francesco\t(active 1610-1630)\tBaroque\tItalian sculptor (Feltre)\n",
      "TERRENI, Giuseppe Maria\t(1739-1811)\tNeoclassicism\tItalian painter (Livorno)\n",
      "TERZIO, Francesco\t(c. 1523-1591)\tMannerism\tItalian painter (Vienna)\n",
      "TESSIN, Nicodemus the Elder\t(1615-1681)\tBaroque\tSwedish architect (Stockholm)\n",
      "TESSIN, Nicodemus the Younger\t(1654-1728)\tBaroque\tSwedish architect (Stockholm)\n",
      "TESTA, Pietro\t(1611-1650)\tBaroque\tItalian painter (Rome)\n",
      "TESTELIN, Henri\t(1616-1695)\tBaroque\tFrench painter\n",
      "TETRODE, Willem Danielsz van\t(c. 1525-c. 1587)\tMannerism\tNetherlandish sculptor\n"
     ]
    }
   ],
   "source": [
    "%%bash\n",
    "cd data/art\n",
    "sort artists.txt"
   ]
  },
  {
   "cell_type": "markdown",
   "metadata": {},
   "source": [
    "#### Copy `artists.txt` to a new file called `temp_artists.txt`"
   ]
  },
  {
   "cell_type": "markdown",
   "metadata": {},
   "source": [
    "#### Move `temp_artists.txt` to `temp_artists2.txt`"
   ]
  },
  {
   "cell_type": "code",
   "execution_count": 19,
   "metadata": {},
   "outputs": [],
   "source": [
    "%%bash\n",
    "cd data/art\n",
    "cp artists.txt temp_artists.txt"
   ]
  },
  {
   "cell_type": "code",
   "execution_count": 7,
   "metadata": {},
   "outputs": [
    {
     "name": "stdout",
     "output_type": "stream",
     "text": [
      "artists.txt\n",
      "temp_artists.txt\n"
     ]
    }
   ],
   "source": [
    "%%bash\n",
    "cd data/art\n",
    "ls"
   ]
  },
  {
   "cell_type": "markdown",
   "metadata": {},
   "source": [
    "#### Create a blank file `temp_artists3.txt` using touch"
   ]
  },
  {
   "cell_type": "code",
   "execution_count": 20,
   "metadata": {},
   "outputs": [],
   "source": [
    "%%bash\n",
    "cd data/art\n",
    "touch temp_artists3.txt\n"
   ]
  },
  {
   "cell_type": "markdown",
   "metadata": {},
   "source": [
    "#### Delete all temporary files \n",
    "Bonus points if you use file globbing"
   ]
  },
  {
   "cell_type": "code",
   "execution_count": 22,
   "metadata": {},
   "outputs": [
    {
     "name": "stdout",
     "output_type": "stream",
     "text": [
      "artists.txt\n"
     ]
    }
   ],
   "source": [
    "%%bash\n",
    "cd data/art\n",
    "rm temp*\n",
    "ls"
   ]
  },
  {
   "cell_type": "markdown",
   "metadata": {},
   "source": [
    "## Homework\n"
   ]
  },
  {
   "cell_type": "markdown",
   "metadata": {},
   "source": [
    "### HW1: Sort `artists.txt` by last name (first column) in reverse alphabetical order"
   ]
  },
  {
   "cell_type": "code",
   "execution_count": 29,
   "metadata": {},
   "outputs": [
    {
     "name": "stdout",
     "output_type": "stream",
     "text": [
      "SORT(1)                          User Commands                         SORT(1)\n",
      "\n",
      "NAME\n",
      "       sort - sort lines of text files\n",
      "\n",
      "SYNOPSIS\n",
      "       sort [OPTION]... [FILE]...\n",
      "       sort [OPTION]... --files0-from=F\n",
      "\n",
      "DESCRIPTION\n",
      "       Write sorted concatenation of all FILE(s) to standard output.\n",
      "\n",
      "       With no FILE, or when FILE is -, read standard input.\n",
      "\n",
      "       Mandatory  arguments  to  long  options are mandatory for short options\n",
      "       too.  Ordering options:\n",
      "\n",
      "       -b, --ignore-leading-blanks\n",
      "              ignore leading blanks\n",
      "\n",
      "       -d, --dictionary-order\n",
      "              consider only blanks and alphanumeric characters\n",
      "\n",
      "       -f, --ignore-case\n",
      "              fold lower case to upper case characters\n",
      "\n",
      "       -g, --general-numeric-sort\n",
      "              compare according to general numerical value\n",
      "\n",
      "       -i, --ignore-nonprinting\n",
      "              consider only printable characters\n",
      "\n",
      "       -M, --month-sort\n",
      "              compare (unknown) < 'JAN' < ... < 'DEC'\n",
      "\n",
      "       -h, --human-numeric-sort\n",
      "              compare human readable numbers (e.g., 2K 1G)\n",
      "\n",
      "       -n, --numeric-sort\n",
      "              compare according to string numerical value\n",
      "\n",
      "       -R, --random-sort\n",
      "              shuffle, but group identical keys.  See shuf(1)\n",
      "\n",
      "       --random-source=FILE\n",
      "              get random bytes from FILE\n",
      "\n",
      "       -r, --reverse\n",
      "              reverse the result of comparisons\n",
      "\n",
      "       --sort=WORD\n",
      "              sort according to WORD: general-numeric  -g,  human-numeric  -h,\n",
      "              month -M, numeric -n, random -R, version -V\n",
      "\n",
      "       -V, --version-sort\n",
      "              natural sort of (version) numbers within text\n",
      "\n",
      "       Other options:\n",
      "\n",
      "       --batch-size=NMERGE\n",
      "              merge at most NMERGE inputs at once; for more use temp files\n",
      "\n",
      "       -c, --check, --check=diagnose-first\n",
      "              check for sorted input; do not sort\n",
      "\n",
      "       -C, --check=quiet, --check=silent\n",
      "              like -c, but do not report first bad line\n",
      "\n",
      "       --compress-program=PROG\n",
      "              compress temporaries with PROG; decompress them with PROG -d\n",
      "\n",
      "       --debug\n",
      "              annotate the part of the line used to sort, and warn about ques‐\n",
      "              tionable usage to stderr\n",
      "\n",
      "       --files0-from=F\n",
      "              read input from the files specified by NUL-terminated  names  in\n",
      "              file F; If F is - then read names from standard input\n",
      "\n",
      "       -k, --key=KEYDEF\n",
      "              sort via a key; KEYDEF gives location and type\n",
      "\n",
      "       -m, --merge\n",
      "              merge already sorted files; do not sort\n",
      "\n",
      "       -o, --output=FILE\n",
      "              write result to FILE instead of standard output\n",
      "\n",
      "       -s, --stable\n",
      "              stabilize sort by disabling last-resort comparison\n",
      "\n",
      "       -S, --buffer-size=SIZE\n",
      "              use SIZE for main memory buffer\n",
      "\n",
      "       -t, --field-separator=SEP\n",
      "              use SEP instead of non-blank to blank transition\n",
      "\n",
      "       -T, --temporary-directory=DIR\n",
      "              use  DIR  for temporaries, not $TMPDIR or /tmp; multiple options\n",
      "              specify multiple directories\n",
      "\n",
      "       --parallel=N\n",
      "              change the number of sorts run concurrently to N\n",
      "\n",
      "       -u, --unique\n",
      "              with -c, check for strict ordering; without -c, output only  the\n",
      "              first of an equal run\n",
      "\n",
      "       -z, --zero-terminated\n",
      "              line delimiter is NUL, not newline\n",
      "\n",
      "       --help display this help and exit\n",
      "\n",
      "       --version\n",
      "              output version information and exit\n",
      "\n",
      "       KEYDEF  is F[.C][OPTS][,F[.C][OPTS]] for start and stop position, where\n",
      "       F is a field number and C a character position in the field;  both  are\n",
      "       origin 1, and the stop position defaults to the line's end.  If neither\n",
      "       -t nor -b is in effect, characters in a  field  are  counted  from  the\n",
      "       beginning of the preceding whitespace.  OPTS is one or more single-let‐\n",
      "       ter ordering options  [bdfgiMhnRrV],  which  override  global  ordering\n",
      "       options  for  that key.  If no key is given, use the entire line as the\n",
      "       key.  Use --debug to diagnose incorrect key usage.\n",
      "\n",
      "       SIZE may be followed by the following multiplicative suffixes: % 1%  of\n",
      "       memory, b 1, K 1024 (default), and so on for M, G, T, P, E, Z, Y.\n",
      "\n",
      "       ***  WARNING  ***  The locale specified by the environment affects sort\n",
      "       order.  Set LC_ALL=C to get the traditional sort order that uses native\n",
      "       byte values.\n",
      "\n",
      "AUTHOR\n",
      "       Written by Mike Haertel and Paul Eggert.\n",
      "\n",
      "REPORTING BUGS\n",
      "       GNU coreutils online help: <http://www.gnu.org/software/coreutils/>\n",
      "       Report sort translation bugs to <http://translationproject.org/team/>\n",
      "\n",
      "COPYRIGHT\n",
      "       Copyright  ©  2017  Free Software Foundation, Inc.  License GPLv3+: GNU\n",
      "       GPL version 3 or later <http://gnu.org/licenses/gpl.html>.\n",
      "       This is free software: you are free  to  change  and  redistribute  it.\n",
      "       There is NO WARRANTY, to the extent permitted by law.\n",
      "\n",
      "SEE ALSO\n",
      "       shuf(1), uniq(1)\n",
      "\n",
      "       Full documentation at: <http://www.gnu.org/software/coreutils/sort>\n",
      "       or available locally via: info '(coreutils) sort invocation'\n",
      "\n",
      "GNU coreutils 8.28               January 2018                          SORT(1)\n"
     ]
    }
   ],
   "source": [
    "%%bash\n",
    "cd data/art\n",
    "sort "
   ]
  },
  {
   "cell_type": "markdown",
   "metadata": {},
   "source": [
    "### HW2: Sort `artists.txt` by birthdate (second column)"
   ]
  },
  {
   "cell_type": "markdown",
   "metadata": {},
   "source": [
    "### HW3: There is a linux command to randomly sample lines from a text file. Find out what it is and use it to get 20 random lines from `artists.txt`."
   ]
  }
 ],
 "metadata": {
  "kernelspec": {
   "display_name": "Python 3",
   "language": "python",
   "name": "python3"
  },
  "language_info": {
   "codemirror_mode": {
    "name": "ipython",
    "version": 3
   },
   "file_extension": ".py",
   "mimetype": "text/x-python",
   "name": "python",
   "nbconvert_exporter": "python",
   "pygments_lexer": "ipython3",
   "version": "3.6.5"
  }
 },
 "nbformat": 4,
 "nbformat_minor": 2
}
